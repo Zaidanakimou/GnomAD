{
 "cells": [
  {
   "cell_type": "code",
   "execution_count": 28,
   "metadata": {},
   "outputs": [],
   "source": [
    "gene_id = \"\"\"query Search($dataset: DatasetId!, $query: String!) {\n",
    "    searchResults(dataset: $dataset, query: $query) {\n",
    "      label\n",
    "      value: url\n",
    "    }\n",
    "  }\"\"\""
   ]
  },
  {
   "cell_type": "code",
   "execution_count": 48,
   "metadata": {},
   "outputs": [],
   "source": [
    "query_variables = \"\"\"{\n",
    "  \"dataset\": \"gnomad_r3\",\n",
    "  \"query\": \"%s\"\n",
    "}\"\"\""
   ]
  },
  {
   "cell_type": "code",
   "execution_count": 49,
   "metadata": {},
   "outputs": [],
   "source": [
    "from pynomad.Search import Search"
   ]
  },
  {
   "cell_type": "code",
   "execution_count": 50,
   "metadata": {},
   "outputs": [],
   "source": [
    "sch = Search('gnomad_r3', gene_id, query_variables)"
   ]
  },
  {
   "cell_type": "code",
   "execution_count": 52,
   "metadata": {},
   "outputs": [],
   "source": [
    "ans = sch.request_gnomad(\"idua\")"
   ]
  },
  {
   "cell_type": "code",
   "execution_count": 59,
   "metadata": {},
   "outputs": [
    {
     "data": {
      "text/plain": [
       "'/gene/ENSG00000127415?dataset=gnomad_r3'"
      ]
     },
     "execution_count": 59,
     "metadata": {},
     "output_type": "execute_result"
    }
   ],
   "source": [
    "val = ans['data']['searchResults'][0]['value']\n",
    "val"
   ]
  },
  {
   "cell_type": "code",
   "execution_count": 74,
   "metadata": {},
   "outputs": [],
   "source": [
    "ensid = val.split('/')[-1].split('?')[0]"
   ]
  },
  {
   "cell_type": "code",
   "execution_count": 69,
   "metadata": {},
   "outputs": [],
   "source": [
    "class Search:\n",
    "\n",
    "    def __init__(self, dataset_id, query, query_variables):\n",
    "        self.ds = dataset_id\n",
    "        self.end_point = \"https://gnomad.broadinstitute.org/api/\"\n",
    "        self.query = query\n",
    "        self.query_vars = query_variables\n",
    "\n",
    "        self.dm = None"
   ]
  },
  {
   "cell_type": "code",
   "execution_count": 70,
   "metadata": {},
   "outputs": [],
   "source": [
    "class GeneSearch(Search):\n",
    "\n",
    "    def __init__(self, gene: str):\n",
    "        super().__init__(\"aro\", \"\", \"\")\n",
    "        self.gene = gene"
   ]
  },
  {
   "cell_type": "code",
   "execution_count": 71,
   "metadata": {},
   "outputs": [],
   "source": [
    "fs = GeneSearch(\"aa\")"
   ]
  },
  {
   "cell_type": "code",
   "execution_count": 73,
   "metadata": {},
   "outputs": [
    {
     "data": {
      "text/plain": [
       "'aro'"
      ]
     },
     "execution_count": 73,
     "metadata": {},
     "output_type": "execute_result"
    }
   ],
   "source": [
    "fs.ds"
   ]
  },
  {
   "cell_type": "code",
   "execution_count": 1,
   "metadata": {},
   "outputs": [],
   "source": [
    "from pynomad import GeneSearch"
   ]
  },
  {
   "cell_type": "code",
   "execution_count": 2,
   "metadata": {},
   "outputs": [],
   "source": [
    "gs = GeneSearch(3, \"idua\")"
   ]
  },
  {
   "cell_type": "code",
   "execution_count": 3,
   "metadata": {},
   "outputs": [
    {
     "data": {
      "text/plain": [
       "'/gene/ENSG00000127415?dataset=gnomad_r3'"
      ]
     },
     "execution_count": 3,
     "metadata": {},
     "output_type": "execute_result"
    }
   ],
   "source": [
    "gs.gene_ens_id"
   ]
  },
  {
   "cell_type": "code",
   "execution_count": 3,
   "metadata": {},
   "outputs": [],
   "source": [
    "from pynomad import RegionSearch\n",
    "rs = RegionSearch(3, 4, 1002741, 1002771)\n",
    "normal, _ = rs.get_data()"
   ]
  },
  {
   "cell_type": "code",
   "execution_count": 4,
   "metadata": {},
   "outputs": [
    {
     "data": {
      "text/html": [
       "<div>\n",
       "<style scoped>\n",
       "    .dataframe tbody tr th:only-of-type {\n",
       "        vertical-align: middle;\n",
       "    }\n",
       "\n",
       "    .dataframe tbody tr th {\n",
       "        vertical-align: top;\n",
       "    }\n",
       "\n",
       "    .dataframe thead th {\n",
       "        text-align: right;\n",
       "    }\n",
       "</style>\n",
       "<table border=\"1\" class=\"dataframe\">\n",
       "  <thead>\n",
       "    <tr style=\"text-align: right;\">\n",
       "      <th></th>\n",
       "      <th>Variant ID</th>\n",
       "      <th>Gene</th>\n",
       "      <th>Consequence</th>\n",
       "      <th>Annotation</th>\n",
       "      <th>Flags</th>\n",
       "      <th>Allele Count</th>\n",
       "      <th>Allele Number</th>\n",
       "      <th>Allele Frequency</th>\n",
       "      <th>Number of Homozygotes</th>\n",
       "      <th>Chromosome</th>\n",
       "      <th>Location</th>\n",
       "      <th>Reference</th>\n",
       "      <th>Alternative</th>\n",
       "    </tr>\n",
       "  </thead>\n",
       "  <tbody>\n",
       "    <tr>\n",
       "      <th>0</th>\n",
       "      <td>4-1002747-G-A</td>\n",
       "      <td>IDUA</td>\n",
       "      <td>p.Trp402Ter</td>\n",
       "      <td>stop_gained</td>\n",
       "      <td>[]</td>\n",
       "      <td>120</td>\n",
       "      <td>142464</td>\n",
       "      <td>0.000842</td>\n",
       "      <td>0</td>\n",
       "      <td>4</td>\n",
       "      <td>1002747</td>\n",
       "      <td>G</td>\n",
       "      <td>A</td>\n",
       "    </tr>\n",
       "    <tr>\n",
       "      <th>1</th>\n",
       "      <td>4-1002750-C-T</td>\n",
       "      <td>IDUA</td>\n",
       "      <td>p.Ala403Val</td>\n",
       "      <td>missense_variant</td>\n",
       "      <td>[]</td>\n",
       "      <td>2</td>\n",
       "      <td>141870</td>\n",
       "      <td>0.000014</td>\n",
       "      <td>0</td>\n",
       "      <td>4</td>\n",
       "      <td>1002750</td>\n",
       "      <td>C</td>\n",
       "      <td>T</td>\n",
       "    </tr>\n",
       "    <tr>\n",
       "      <th>2</th>\n",
       "      <td>4-1002751-C-G</td>\n",
       "      <td>IDUA</td>\n",
       "      <td>p.Ala403Ala</td>\n",
       "      <td>synonymous_variant</td>\n",
       "      <td>[]</td>\n",
       "      <td>2</td>\n",
       "      <td>143004</td>\n",
       "      <td>0.000014</td>\n",
       "      <td>0</td>\n",
       "      <td>4</td>\n",
       "      <td>1002751</td>\n",
       "      <td>C</td>\n",
       "      <td>G</td>\n",
       "    </tr>\n",
       "    <tr>\n",
       "      <th>3</th>\n",
       "      <td>4-1002756-T-G</td>\n",
       "      <td>IDUA</td>\n",
       "      <td>p.Val405Gly</td>\n",
       "      <td>missense_variant</td>\n",
       "      <td>[]</td>\n",
       "      <td>1</td>\n",
       "      <td>141746</td>\n",
       "      <td>0.000007</td>\n",
       "      <td>0</td>\n",
       "      <td>4</td>\n",
       "      <td>1002756</td>\n",
       "      <td>T</td>\n",
       "      <td>G</td>\n",
       "    </tr>\n",
       "    <tr>\n",
       "      <th>4</th>\n",
       "      <td>4-1002759-C-G</td>\n",
       "      <td>IDUA</td>\n",
       "      <td>p.Ser406Trp</td>\n",
       "      <td>missense_variant</td>\n",
       "      <td>[]</td>\n",
       "      <td>2</td>\n",
       "      <td>142602</td>\n",
       "      <td>0.000014</td>\n",
       "      <td>0</td>\n",
       "      <td>4</td>\n",
       "      <td>1002759</td>\n",
       "      <td>C</td>\n",
       "      <td>G</td>\n",
       "    </tr>\n",
       "    <tr>\n",
       "      <th>5</th>\n",
       "      <td>4-1002766-C-T</td>\n",
       "      <td>IDUA</td>\n",
       "      <td>p.Ala408Ala</td>\n",
       "      <td>synonymous_variant</td>\n",
       "      <td>[]</td>\n",
       "      <td>3</td>\n",
       "      <td>143012</td>\n",
       "      <td>0.000021</td>\n",
       "      <td>0</td>\n",
       "      <td>4</td>\n",
       "      <td>1002766</td>\n",
       "      <td>C</td>\n",
       "      <td>T</td>\n",
       "    </tr>\n",
       "    <tr>\n",
       "      <th>6</th>\n",
       "      <td>4-1002767-G-C</td>\n",
       "      <td>IDUA</td>\n",
       "      <td>p.Gly409Arg</td>\n",
       "      <td>missense_variant</td>\n",
       "      <td>[]</td>\n",
       "      <td>2750</td>\n",
       "      <td>142238</td>\n",
       "      <td>0.019334</td>\n",
       "      <td>67</td>\n",
       "      <td>4</td>\n",
       "      <td>1002767</td>\n",
       "      <td>G</td>\n",
       "      <td>C</td>\n",
       "    </tr>\n",
       "    <tr>\n",
       "      <th>7</th>\n",
       "      <td>4-1002768-G-A</td>\n",
       "      <td>IDUA</td>\n",
       "      <td>p.Gly409Glu</td>\n",
       "      <td>missense_variant</td>\n",
       "      <td>[]</td>\n",
       "      <td>2</td>\n",
       "      <td>143002</td>\n",
       "      <td>0.000014</td>\n",
       "      <td>0</td>\n",
       "      <td>4</td>\n",
       "      <td>1002768</td>\n",
       "      <td>G</td>\n",
       "      <td>A</td>\n",
       "    </tr>\n",
       "    <tr>\n",
       "      <th>8</th>\n",
       "      <td>4-1002770-A-C</td>\n",
       "      <td>IDUA</td>\n",
       "      <td>p.Thr410Pro</td>\n",
       "      <td>missense_variant</td>\n",
       "      <td>[]</td>\n",
       "      <td>5</td>\n",
       "      <td>140858</td>\n",
       "      <td>0.000035</td>\n",
       "      <td>0</td>\n",
       "      <td>4</td>\n",
       "      <td>1002770</td>\n",
       "      <td>A</td>\n",
       "      <td>C</td>\n",
       "    </tr>\n",
       "    <tr>\n",
       "      <th>9</th>\n",
       "      <td>4-1002770-AC-A</td>\n",
       "      <td>IDUA</td>\n",
       "      <td>p.Val411SerfsTer29</td>\n",
       "      <td>frameshift_variant</td>\n",
       "      <td>[]</td>\n",
       "      <td>1</td>\n",
       "      <td>140860</td>\n",
       "      <td>0.000007</td>\n",
       "      <td>0</td>\n",
       "      <td>4</td>\n",
       "      <td>1002770</td>\n",
       "      <td>AC</td>\n",
       "      <td>A</td>\n",
       "    </tr>\n",
       "  </tbody>\n",
       "</table>\n",
       "</div>"
      ],
      "text/plain": [
       "       Variant ID  Gene         Consequence          Annotation Flags  \\\n",
       "0   4-1002747-G-A  IDUA         p.Trp402Ter         stop_gained    []   \n",
       "1   4-1002750-C-T  IDUA         p.Ala403Val    missense_variant    []   \n",
       "2   4-1002751-C-G  IDUA         p.Ala403Ala  synonymous_variant    []   \n",
       "3   4-1002756-T-G  IDUA         p.Val405Gly    missense_variant    []   \n",
       "4   4-1002759-C-G  IDUA         p.Ser406Trp    missense_variant    []   \n",
       "5   4-1002766-C-T  IDUA         p.Ala408Ala  synonymous_variant    []   \n",
       "6   4-1002767-G-C  IDUA         p.Gly409Arg    missense_variant    []   \n",
       "7   4-1002768-G-A  IDUA         p.Gly409Glu    missense_variant    []   \n",
       "8   4-1002770-A-C  IDUA         p.Thr410Pro    missense_variant    []   \n",
       "9  4-1002770-AC-A  IDUA  p.Val411SerfsTer29  frameshift_variant    []   \n",
       "\n",
       "   Allele Count  Allele Number  Allele Frequency  Number of Homozygotes  \\\n",
       "0           120         142464          0.000842                      0   \n",
       "1             2         141870          0.000014                      0   \n",
       "2             2         143004          0.000014                      0   \n",
       "3             1         141746          0.000007                      0   \n",
       "4             2         142602          0.000014                      0   \n",
       "5             3         143012          0.000021                      0   \n",
       "6          2750         142238          0.019334                     67   \n",
       "7             2         143002          0.000014                      0   \n",
       "8             5         140858          0.000035                      0   \n",
       "9             1         140860          0.000007                      0   \n",
       "\n",
       "  Chromosome Location Reference Alternative  \n",
       "0          4  1002747         G           A  \n",
       "1          4  1002750         C           T  \n",
       "2          4  1002751         C           G  \n",
       "3          4  1002756         T           G  \n",
       "4          4  1002759         C           G  \n",
       "5          4  1002766         C           T  \n",
       "6          4  1002767         G           C  \n",
       "7          4  1002768         G           A  \n",
       "8          4  1002770         A           C  \n",
       "9          4  1002770        AC           A  "
      ]
     },
     "execution_count": 4,
     "metadata": {},
     "output_type": "execute_result"
    }
   ],
   "source": [
    "normal"
   ]
  },
  {
   "cell_type": "code",
   "execution_count": null,
   "metadata": {},
   "outputs": [],
   "source": []
  }
 ],
 "metadata": {
  "kernelspec": {
   "display_name": "Python 3",
   "language": "python",
   "name": "python3"
  },
  "language_info": {
   "codemirror_mode": {
    "name": "ipython",
    "version": 3
   },
   "file_extension": ".py",
   "mimetype": "text/x-python",
   "name": "python",
   "nbconvert_exporter": "python",
   "pygments_lexer": "ipython3",
   "version": "3.8.5"
  }
 },
 "nbformat": 4,
 "nbformat_minor": 4
}
